{
 "cells": [
  {
   "cell_type": "code",
   "execution_count": 10,
   "id": "3cb6eecc-9ea2-4e54-a74d-c450086f80ac",
   "metadata": {},
   "outputs": [
    {
     "name": "stdout",
     "output_type": "stream",
     "text": [
      "args=(1, 2)\n",
      "kwargs={'test': True}\n",
      "result=None\n",
      "args=([1, 2, 3], [1, 2, 3])\n",
      "kwargs={'test': True}\n",
      "result=[2, 4, 6]\n"
     ]
    },
    {
     "data": {
      "text/plain": [
       "[2, 4, 6]"
      ]
     },
     "execution_count": 10,
     "metadata": {},
     "output_type": "execute_result"
    }
   ],
   "source": [
    "import functools\n",
    "\n",
    "def print_args(func):\n",
    "    @functools.wraps(func)\n",
    "    def wrapper(*args, **kwargs):\n",
    "        print(f'args={args}')\n",
    "        print(f'kwargs={kwargs}')\n",
    "        result = func(*args, **kwargs)\n",
    "        print(f'result={result}')\n",
    "        return result\n",
    "    return wrapper\n",
    "\n",
    "def sum_list(func):\n",
    "    @functools.wraps(func)\n",
    "    def wrapper(*args, **kwargs):\n",
    "        # todo        \n",
    "        if len(args) == 2 and type(args[0]) == list and type(args[1]) == list and len(args[0]) == len(args[1]):\n",
    "            return list(map(lambda x, y: x + y, args[0], args[1]))\n",
    "        return None\n",
    "    return wrapper\n",
    "\n",
    "@print_args\n",
    "@sum_list\n",
    "def sum(a,b,**kwargs):\n",
    "    return a+b\n",
    "\n",
    "x = sum(1,2, test=True)\n",
    "x = sum([1,2,3], [1,2,3], test=True)\n",
    "x"
   ]
  },
  {
   "cell_type": "code",
   "execution_count": null,
   "id": "f34ed08a-2199-42d5-aacc-8ded1b9ce3f1",
   "metadata": {},
   "outputs": [],
   "source": []
  }
 ],
 "metadata": {
  "kernelspec": {
   "display_name": "Python 3 (ipykernel)",
   "language": "python",
   "name": "python3"
  },
  "language_info": {
   "codemirror_mode": {
    "name": "ipython",
    "version": 3
   },
   "file_extension": ".py",
   "mimetype": "text/x-python",
   "name": "python",
   "nbconvert_exporter": "python",
   "pygments_lexer": "ipython3",
   "version": "3.10.11"
  }
 },
 "nbformat": 4,
 "nbformat_minor": 5
}
