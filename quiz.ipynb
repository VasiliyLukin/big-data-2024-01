{
 "cells": [
  {
   "cell_type": "code",
   "execution_count": null,
   "id": "cfbfd35c-1e57-4795-9768-ce2fb1d1735d",
   "metadata": {},
   "outputs": [],
   "source": [
    "Угадай число:\n",
    "программа загадывает число\n",
    "пользователь вводит свою догадку\n",
    "программа подсказывает угадал или меньше больше загаданного числа"
   ]
  },
  {
   "cell_type": "code",
   "execution_count": 10,
   "id": "4d66e2f5-229b-4ad8-8966-a0ca7bbe803b",
   "metadata": {},
   "outputs": [],
   "source": [
    "import random"
   ]
  },
  {
   "cell_type": "code",
   "execution_count": 32,
   "id": "8ac6120e-680d-498a-906d-589b1fbcdcd6",
   "metadata": {},
   "outputs": [],
   "source": [
    "a = random.randint(1, 9)"
   ]
  },
  {
   "cell_type": "code",
   "execution_count": 33,
   "id": "b9b4ef18-0e5c-4dc8-aa3f-3cb39c8377ab",
   "metadata": {},
   "outputs": [
    {
     "data": {
      "text/plain": [
       "1"
      ]
     },
     "execution_count": 33,
     "metadata": {},
     "output_type": "execute_result"
    }
   ],
   "source": [
    "a"
   ]
  },
  {
   "cell_type": "code",
   "execution_count": 34,
   "id": "0553f91a-3467-4a73-a140-45ab2f8b2b16",
   "metadata": {},
   "outputs": [
    {
     "name": "stdout",
     "output_type": "stream",
     "text": [
      "Угадай число от 1 до 9. Для выхода введите 0\n"
     ]
    }
   ],
   "source": [
    "print (\"Угадай число от 1 до 9. Для выхода введите 0\")"
   ]
  },
  {
   "cell_type": "code",
   "execution_count": 35,
   "id": "080e4ec1-f7f1-4694-b834-02592ca154ad",
   "metadata": {},
   "outputs": [
    {
     "name": "stdin",
     "output_type": "stream",
     "text": [
      "Введите число:  9\n"
     ]
    },
    {
     "name": "stdout",
     "output_type": "stream",
     "text": [
      "9\n",
      "Загаданное число меньше\n"
     ]
    },
    {
     "name": "stdin",
     "output_type": "stream",
     "text": [
      "Введите число:  0\n"
     ]
    },
    {
     "name": "stdout",
     "output_type": "stream",
     "text": [
      "0\n",
      "Возвращайтесь!\n"
     ]
    }
   ],
   "source": [
    "while b != a:\n",
    "    b = int(input (\"Введите число: \"))\n",
    "    print (b)\n",
    "    if (b == 0) : \n",
    "        print(\"Возвращайтесь!\")\n",
    "        break\n",
    "    if (b > a) : \n",
    "        print(\"Загаданное число меньше\")\n",
    "    elif (b < a) : \n",
    "        print(\"Загаданное число больше\")    \n",
    "    else:\n",
    "        print(\"Вы угадали!\")"
   ]
  },
  {
   "cell_type": "code",
   "execution_count": null,
   "id": "3cb6eecc-9ea2-4e54-a74d-c450086f80ac",
   "metadata": {},
   "outputs": [],
   "source": []
  }
 ],
 "metadata": {
  "kernelspec": {
   "display_name": "Python 3 (ipykernel)",
   "language": "python",
   "name": "python3"
  },
  "language_info": {
   "codemirror_mode": {
    "name": "ipython",
    "version": 3
   },
   "file_extension": ".py",
   "mimetype": "text/x-python",
   "name": "python",
   "nbconvert_exporter": "python",
   "pygments_lexer": "ipython3",
   "version": "3.10.11"
  }
 },
 "nbformat": 4,
 "nbformat_minor": 5
}
